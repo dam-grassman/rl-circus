{
 "cells": [
  {
   "cell_type": "markdown",
   "metadata": {},
   "source": [
    "# Object-based Saliency \n",
    "\n",
    "Paper : *Transparency and Explanation in Deep Reinforcement Learning Neural Networks*. R. Iyer et al (2018).\n",
    "\n",
    "1. [Introduction](#Introduction)\n",
    "2. [Template Matching](#Template-Matching)\n",
    "2. [Saliency Map](#Saliency-Map)\n",
    "\n",
    "## <a id=\"Introduction\"></a>Introduction\n",
    "\n",
    "**DQN Transparency via Object Saliency Maps**\n",
    "\n",
    "In order to provide visualization of the agent's decision, the authors study the influence of objects - instead of looking at the pixel level. To do so, they propose to rank the objects' *importance* based on their effect on the q-value *Q(s,a)*. For simplification, as computing the derivative w.r.t object is non-trivial, they offer to simply compare the Q-value with and without the object (by simply masking the object in the state with background color). \n",
    "\n",
    "Thus, they compute : $w_i = Q(s,a) - Q(s_{\\mbox{mask}_i},a)$ for each object $i$ of interest. The conclusions drawn from this are pretty straitforward : $w>0$ means the object have a positive influence, a positive future reward to the agent, meaning it is *good*. On the other hand, $w<0& means it has a *bad* impact as it yields a better q-value without it.\n",
    "\n",
    "27 Citations though for a very simple idea."
   ]
  },
  {
   "cell_type": "markdown",
   "metadata": {},
   "source": [
    "**Packages**"
   ]
  },
  {
   "cell_type": "code",
   "execution_count": 1,
   "metadata": {},
   "outputs": [],
   "source": [
    "import os\n",
    "import cv2\n",
    "import pickle\n",
    "import numpy as np\n",
    "import matplotlib.pyplot as plt\n",
    "import matplotlib.patches as patches\n",
    "%matplotlib inline\n",
    "\n",
    "import warnings\n",
    "warnings.filterwarnings(\"ignore\")"
   ]
  },
  {
   "cell_type": "markdown",
   "metadata": {},
   "source": [
    "**Load an observation**"
   ]
  },
  {
   "cell_type": "code",
   "execution_count": 2,
   "metadata": {},
   "outputs": [
    {
     "name": "stdout",
     "output_type": "stream",
     "text": [
      "Observation Shape :  torch.Size([1, 4, 84, 84])\n"
     ]
    },
    {
     "data": {
      "image/png": "[encoded data removed]",
      "text/plain": [
       "<Figure size 720x360 with 4 Axes>"
      ]
     },
     "metadata": {
      "needs_background": "light"
     },
     "output_type": "display_data"
    }
   ],
   "source": [
    "DIR_PATH = \"C:/Users/damie/Desktop/XRL/Code/LIME/samples\"\n",
    "obs, last_4_frames, last_4_actions  = pickle.load(open(os.path.join(DIR_PATH, \"sample_5.p\"), \"rb\" ))\n",
    "print(\"Observation Shape : \", obs.shape)\n",
    "\n",
    "fig, ax = plt.subplots(1,4,figsize=(10,5))\n",
    "for a in fig.axes: a.get_xaxis().set_visible(False) ; a.get_yaxis().set_visible(False) ;\n",
    "for i in range(4):\n",
    "    ax[i].imshow(last_4_frames[i]) ; ax[i].set_title('t-{}'.format(3-i))"
   ]
  },
  {
   "cell_type": "markdown",
   "metadata": {},
   "source": [
    "## <a id=\"Template-Matching\"></a>Template Matching"
   ]
  },
  {
   "cell_type": "markdown",
   "metadata": {},
   "source": [
    "The authors use *template matching* to recognize objects. Basically, template matching is a computer vision technique used to locate a template image in a larger image. To do so, one needs to provide the template image of an object and, by sliding on the source image, it matches areas with possible presence of the pattern template (see opencv documentation).\n",
    "\n",
    "Here we need to create our own template as they are not provided necessarily. Let's do so by selelection the templates directly from the observation."
   ]
  },
  {
   "cell_type": "markdown",
   "metadata": {},
   "source": [
    "**a. Get Templates**"
   ]
  },
  {
   "cell_type": "code",
   "execution_count": 3,
   "metadata": {},
   "outputs": [],
   "source": [
    "from object_utils import get_boundingbox, non_max_suppression_fast, get_objPixels, nms_from_pt"
   ]
  },
  {
   "cell_type": "markdown",
   "metadata": {},
   "source": [
    "First we need to select the number of object to look for. Here, on a simple example such as Pong, it would basically be the 2 paddles, plus the ball."
   ]
  },
  {
   "cell_type": "code",
   "execution_count": 4,
   "metadata": {},
   "outputs": [],
   "source": [
    "K_OBJECTS = 3\n",
    "bounding_boxes = []"
   ]
  },
  {
   "cell_type": "code",
   "execution_count": 5,
   "metadata": {},
   "outputs": [],
   "source": [
    "for k in range(K_OBJECTS):\n",
    "    bounding_boxes.append(get_boundingbox(last_4_frames[2], name = \"Choose Bounding Box around obj\" , destroy = False))\n",
    "cv2.destroyWindow(\"Choose Bounding Box around obj\")"
   ]
  },
  {
   "cell_type": "markdown",
   "metadata": {},
   "source": [
    "A small window should pop-up and you'll need to select the template yourself. Select the area and press Enter, 3 times.\n",
    "![Select ROI](./images/selectroi.png)"
   ]
  },
  {
   "cell_type": "code",
   "execution_count": 5,
   "metadata": {},
   "outputs": [
    {
     "data": {
      "image/png": "[encoded data removed]",
      "text/plain": [
       "<Figure size 720x360 with 3 Axes>"
      ]
     },
     "metadata": {
      "needs_background": "light"
     },
     "output_type": "display_data"
    }
   ],
   "source": [
    "bounding_boxes = [[14, 87, 8, 20], [122, 95, 6, 8], [137, 107, 9, 22]]\n",
    "fig, ax = plt.subplots(1,K_OBJECTS,figsize=(10,5))\n",
    "for a in fig.axes: a.get_xaxis().set_visible(False) ; a.get_yaxis().set_visible(False) ;\n",
    "\n",
    "for i, (x,y,w,h) in enumerate(bounding_boxes) : \n",
    "    ax[i].imshow(last_4_frames[2][y:y+h,x:x+w]) ; ax[i].set_title('Object {}'.format(i+1))"
   ]
  },
  {
   "cell_type": "markdown",
   "metadata": {},
   "source": [
    "**b. Template Matching**"
   ]
  },
  {
   "cell_type": "code",
   "execution_count": 6,
   "metadata": {},
   "outputs": [],
   "source": [
    "templates = []\n",
    "for i, (x,y,w,h) in enumerate(bounding_boxes):\n",
    "    templates.append(last_4_frames[2][y:y+h,x:x+w])"
   ]
  },
  {
   "cell_type": "code",
   "execution_count": 7,
   "metadata": {},
   "outputs": [
    {
     "data": {
      "image/png": "[encoded data removed]",
      "text/plain": [
       "<Figure size 720x360 with 3 Axes>"
      ]
     },
     "metadata": {
      "needs_background": "light"
     },
     "output_type": "display_data"
    }
   ],
   "source": [
    "fig, ax = plt.subplots(1,3, figsize = (10,5))\n",
    "\n",
    "idx = 0\n",
    "pixels, pt = get_objPixels(templates, last_4_frames[idx])\n",
    "boxes = nms_from_pt(pt)\n",
    "\n",
    "ax[0].imshow(last_4_frames[idx])\n",
    "ax[1].imshow(last_4_frames[idx])\n",
    "ax[2].imshow(last_4_frames[idx])\n",
    "\n",
    "for i, loc, (w,h) in pt : \n",
    "    for j in range(min(10,len(loc[0]))):\n",
    "        rect = patches.Rectangle((loc[1][j], loc[0][j]),w,h,linewidth=1,edgecolor=['g', 'b', 'r'][i],facecolor='none')\n",
    "        ax[1].add_patch(rect)\n",
    "ax[1].set_title('{} boxes'.format(np.sum([len(pt[i][1][0]) for i in range(3)] )))\n",
    "        \n",
    "for coord in boxes : \n",
    "        rect = patches.Rectangle((coord[0], coord[1]),coord[2]-coord[0], coord[3]-coord[1],\n",
    "                                 linewidth=1,edgecolor='r',facecolor='none')\n",
    "        ax[2].add_patch(rect)\n",
    "ax[2].set_title('{} boxes (NMS)'.format(len(boxes)))\n",
    "plt.show()"
   ]
  },
  {
   "cell_type": "markdown",
   "metadata": {},
   "source": [
    "## <a id=\"Saliency-Map\"></a>Saliency Map"
   ]
  },
  {
   "cell_type": "markdown",
   "metadata": {},
   "source": [
    "**Load the Model**"
   ]
  },
  {
   "cell_type": "code",
   "execution_count": 8,
   "metadata": {},
   "outputs": [],
   "source": [
    "import torch\n",
    "import torch.nn as nn\n",
    "import torch.nn.functional as F\n",
    "from torch.autograd import Function\n",
    "\n",
    "from skimage.transform import resize\n",
    "from object_utils import mask_object"
   ]
  },
  {
   "cell_type": "code",
   "execution_count": 9,
   "metadata": {},
   "outputs": [
    {
     "name": "stdout",
     "output_type": "stream",
     "text": [
      "Model Loaded\n"
     ]
    }
   ],
   "source": [
    "import sys\n",
    "sys.path.append('C:/Users/damie/Desktop/XRL/Code/Algorithms/dqn-extensions')\n",
    "import dqn_model, common\n",
    "\n",
    "PATH_TO_PONG_MODEL = os.path.join('C:/Users/damie/Desktop/XRL/Code/Models', 'DQN/PongNoFrameskip-v4-best.dat')\n",
    "\n",
    "ACT_SPACE = 6\n",
    "OBS_SPACE = (4, 84, 84)\n",
    "\n",
    "net = dqn_model.DQN(OBS_SPACE, ACT_SPACE)\n",
    "net.load_state_dict(torch.load(PATH_TO_PONG_MODEL, map_location=lambda storage, loc: storage))\n",
    "print('Model Loaded')"
   ]
  },
  {
   "cell_type": "code",
   "execution_count": 12,
   "metadata": {},
   "outputs": [],
   "source": [
    "def process(img):\n",
    "    processed = img[35:195,::].copy()\n",
    "    processed = np.mean(processed, axis = -1)\n",
    "    processed = np.swapaxes(processed,1,0)\n",
    "    processed = resize(processed, output_shape=(84,84),  mode='wrap').astype(np.float32)\n",
    "    return processed.astype('uint8')"
   ]
  },
  {
   "cell_type": "code",
   "execution_count": 13,
   "metadata": {},
   "outputs": [
    {
     "data": {
      "image/png": "[encoded data removed]",
      "text/plain": [
       "<Figure size 432x288 with 1 Axes>"
      ]
     },
     "metadata": {
      "needs_background": "light"
     },
     "output_type": "display_data"
    },
    {
     "data": {
      "image/png": "[encoded data removed]",
      "text/plain": [
       "<Figure size 720x360 with 4 Axes>"
      ]
     },
     "metadata": {
      "needs_background": "light"
     },
     "output_type": "display_data"
    }
   ],
   "source": [
    "plt.imshow(process(last_4_frames[3]))\n",
    "\n",
    "fig, ax = plt.subplots(1,4,figsize=(10,5))\n",
    "ax[0].imshow(last_4_frames[3])\n",
    "for i in range(1,4):\n",
    "    ax[i].imshow(mask_object(last_4_frames[idx], boxes[i-1],[144,  72,  17]))"
   ]
  },
  {
   "cell_type": "markdown",
   "metadata": {},
   "source": [
    "Q-values"
   ]
  },
  {
   "cell_type": "code",
   "execution_count": 11,
   "metadata": {},
   "outputs": [
    {
     "name": "stdout",
     "output_type": "stream",
     "text": [
      "Q(s,a) :  [[ 0.16826548  0.42834806  0.5685358   0.19444427 -0.06415313  0.3802368 ]]  Best Action : 2\n"
     ]
    }
   ],
   "source": [
    "q = net(obs).detach().numpy()\n",
    "action = np.argmax(q)\n",
    "print('Q(s,a) : ', q, ' Best Action :', action)"
   ]
  },
  {
   "cell_type": "code",
   "execution_count": 14,
   "metadata": {},
   "outputs": [],
   "source": [
    "len_obj = len(boxes)\n",
    "scores = np.zeros(len_obj)"
   ]
  },
  {
   "cell_type": "code",
   "execution_count": 30,
   "metadata": {},
   "outputs": [
    {
     "data": {
      "text/plain": [
       "array([ 0.81388295, -0.24284601, -0.46897781])"
      ]
     },
     "execution_count": 30,
     "metadata": {},
     "output_type": "execute_result"
    },
    {
     "data": {
      "image/png": "[encoded data removed]",
      "text/plain": [
       "<Figure size 720x720 with 12 Axes>"
      ]
     },
     "metadata": {
      "needs_background": "light"
     },
     "output_type": "display_data"
    }
   ],
   "source": [
    "len_obj = len(boxes)\n",
    "scores = np.zeros(len_obj)\n",
    "orig_obs = last_4_frames\n",
    "\n",
    "best_action = True\n",
    "\n",
    "fig, ax = plt.subplots(3,4,figsize=(10,10))\n",
    "for i,pix in enumerate(range(len_obj)):\n",
    "    processed_obs = np.copy(obs)\n",
    "    for f in [0,1,2,3]: \n",
    "        pixels, pt = get_objPixels(templates, last_4_frames[f])\n",
    "        boxes = nms_from_pt(pt)\n",
    "        coord = boxes[i]\n",
    "        #rect = patches.Rectangle((coord[0], coord[1]),coord[2]-coord[0], coord[3]-coord[1],\n",
    "        #                         linewidth=1,edgecolor='r',facecolor='none')\n",
    "        #ax[i,f].add_patch(rect)\n",
    "        ax[i,f].imshow(mask_object(last_4_frames[f], boxes[i],[144,  72,  17]))\n",
    "        processed_obs[0,f,:,:]  = process(mask_object(last_4_frames[f], boxes[i],[144,  72,  17]))\n",
    "    q_o = net(torch.tensor(processed_obs)).detach().numpy() #with masking object o\n",
    "    if best_action :\n",
    "        scores[i] = q[0][action] - q_o[0][action]\n",
    "    else :\n",
    "        scores[i] = np.mean(q - q_o)\n",
    "scores"
   ]
  },
  {
   "cell_type": "code",
   "execution_count": 31,
   "metadata": {},
   "outputs": [
    {
     "data": {
      "text/plain": [
       "<matplotlib.image.AxesImage at 0x293edb3b108>"
      ]
     },
     "execution_count": 31,
     "metadata": {},
     "output_type": "execute_result"
    },
    {
     "data": {
      "image/png": "[encoded data removed]",
      "text/plain": [
       "<Figure size 720x720 with 2 Axes>"
      ]
     },
     "metadata": {
      "needs_background": "light"
     },
     "output_type": "display_data"
    }
   ],
   "source": [
    "def saliency_on_atari_frame(frame, pixels, score):\n",
    "    S = 128 * np.ones([frame.shape[0],frame.shape[1], 3], dtype=np.uint8) #gray background\n",
    "    for i,s in enumerate(score):\n",
    "        S[boxes[i][1]:boxes[i][3],boxes[i][0]:boxes[i][2]] = S[boxes[i][1]:boxes[i][3],boxes[i][0]:boxes[i][2]] + s*40\n",
    "    S = np.clip(S, a_min=0, a_max=255)\n",
    "    return S\n",
    "\n",
    "S = saliency_on_atari_frame(last_4_frames[2], boxes, scores)\n",
    "fig, ax = plt.subplots(1,2,figsize=(10,10))\n",
    "for a in fig.axes: a.get_xaxis().set_visible(False) ; a.get_yaxis().set_visible(False) ;\n",
    "ax[0].imshow(last_4_frames[1])\n",
    "ax[1].imshow(S)"
   ]
  },
  {
   "cell_type": "markdown",
   "metadata": {},
   "source": [
    "__________________________________"
   ]
  }
 ],
 "metadata": {
  "kernelspec": {
   "display_name": "Python 3",
   "language": "python",
   "name": "python3"
  },
  "language_info": {
   "codemirror_mode": {
    "name": "ipython",
    "version": 3
   },
   "file_extension": ".py",
   "mimetype": "text/x-python",
   "name": "python",
   "nbconvert_exporter": "python",
   "pygments_lexer": "ipython3",
   "version": "3.7.4"
  }
 },
 "nbformat": 4,
 "nbformat_minor": 2
}
