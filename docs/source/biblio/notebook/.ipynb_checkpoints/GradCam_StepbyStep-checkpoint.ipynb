{
 "cells": [
  {
   "cell_type": "markdown",
   "metadata": {},
   "source": [
    "# GradCam\n",
    "\n",
    "*Grad-CAM : Visual Explanations from Deep Networks via Gradientbased Localization*, R. Selvaraju et al. <br> In : International Conference on Computer Vision (ICCV 2017).\n",
    "\n",
    "1. [Introduction](#Introduction)\n",
    "2. [Discussion](#discuss)\n",
    "3. [GuidedBackpropreLU](#GuidedBackpropReLU)\n",
    "\n",
    "Ressources : \n",
    " - https://github.com/jacobgil/pytorch-grad-cam (Github)\n",
    " \n",
    " - https://arxiv.org/pdf/1610.02391.pdf (Paper)\n",
    " \n",
    " - https://www.pyimagesearch.com/2020/03/09/grad-cam-visualize-class-activation-maps-with-keras-tensorflow-and-deep-learning/\n",
    "\n"
   ]
  },
  {
   "cell_type": "markdown",
   "metadata": {},
   "source": [
    "### <a id=\"Introduction\"></a>Introduction"
   ]
  },
  {
   "cell_type": "markdown",
   "metadata": {},
   "source": [
    "GradCam is a tool for interpretability of convolutional neural network aiming at spotlight parts of the image where the network *is paying attention*. The gradcam procedure is trying to bring transparency to the output of the CNN block of any neural network. Roughly speaking, it will measure the level of activation intensity the different part of the image will have when goiing through the different filters, with respect to a prediction. To do so, it builds a mask, commonly ploted as a heatmap, following the following procedure : \n",
    "\n",
    "   1. Compute the gradient of $y^c$ (before the softmax activation) w.r.t the *feature map* activation $A^k$of the convolutional part of the network, ie : $\\frac{\\partial y_c}{\\partial A^k}$. This is obtained via backpropagation\n",
    "   \n",
    "   2. then, compute the importance weight $\\alpha_k^c$ wrt to the $k^{th}$ channel, using global average pooling :\n",
    "   \n",
    "   $$ \\alpha_k^c = \\frac{1}{Z} \\sum_i \\sum_j \\frac{\\partial y^c}{\\partial A_{ij}^k}$$\n",
    "   \n",
    "   It capture the *importance* of the feature map *k* for the target classe *c*.\n",
    "   \n",
    "   3. finally, compute the weigthed (using $\\alpha_k^c$) combinaison of a forward activation through the filters from the feature map and apply a ReLU operation so as to keep only positive influences :\n",
    "   \n",
    "   $$L_{\\mbox{GradCam}}^c = ReLU( \\sum_k \\alpha_k^c A^k )$$\n",
    "   \n",
    "   The resulting vector is of the same size as the convolutional feature map A. One can at last obtain a heatmap by resizing the vector to match the input size.\n",
    "   \n"
   ]
  },
  {
   "cell_type": "markdown",
   "metadata": {},
   "source": [
    "**Packages**"
   ]
  },
  {
   "cell_type": "code",
   "execution_count": 1,
   "metadata": {},
   "outputs": [],
   "source": [
    "import torch\n",
    "import torch.nn as nn\n",
    "import torch.nn.functional as F\n",
    "from torch.autograd import Function\n",
    "\n",
    "import os\n",
    "import pickle\n",
    "import warnings\n",
    "import numpy as np\n",
    "warnings.filterwarnings(\"ignore\")\n",
    "\n",
    "import matplotlib.pyplot as plt\n",
    "%matplotlib inline"
   ]
  },
  {
   "cell_type": "markdown",
   "metadata": {},
   "source": [
    "### GradCam : step by step \n"
   ]
  },
  {
   "cell_type": "markdown",
   "metadata": {},
   "source": [
    "Makes it clearer to introduce a *model* class that seperates the features extraction from the classifier. This part might need to be modified though."
   ]
  },
  {
   "cell_type": "code",
   "execution_count": 2,
   "metadata": {},
   "outputs": [],
   "source": [
    "class model(nn.Module):\n",
    "    def __init__(self, net):\n",
    "        super(model, self).__init__()\n",
    "        \n",
    "        class Features(nn.Module):\n",
    "            def __init__(self, conv):\n",
    "                super(Features, self).__init__()\n",
    "                self.features = conv\n",
    "                \n",
    "            def forward(self, x):\n",
    "                fx = x.float() / 256\n",
    "                conv_out = self.features(fx).view(fx.size()[0], -1)\n",
    "                return conv_out\n",
    "        \n",
    "        self.features = Features(net.conv)\n",
    "        self.classifier = net.fc\n",
    "\n",
    "    def forward(self, x):\n",
    "        conv_out = self.features(x)\n",
    "        return self.classifier(conv_out)"
   ]
  },
  {
   "cell_type": "markdown",
   "metadata": {},
   "source": [
    "**Load your own model**. Here we are going to use a DQN trained on Pong."
   ]
  },
  {
   "cell_type": "code",
   "execution_count": 3,
   "metadata": {},
   "outputs": [
    {
     "name": "stdout",
     "output_type": "stream",
     "text": [
      "Model Loaded\n"
     ]
    }
   ],
   "source": [
    "import sys\n",
    "sys.path.append('C:/Users/damie/Desktop/XRL/Code/Algorithms/dqn-extensions')\n",
    "import dqn_model, common\n",
    "\n",
    "PATH_TO_PONG_MODEL = os.path.join('C:/Users/damie/Desktop/XRL/Code/Models', 'DQN/PongNoFrameskip-v4-best.dat')\n",
    "\n",
    "ACT_SPACE = 6\n",
    "OBS_SPACE = (4, 84, 84)\n",
    "\n",
    "net = dqn_model.DQN(OBS_SPACE, ACT_SPACE)\n",
    "net.load_state_dict(torch.load(PATH_TO_PONG_MODEL, map_location=lambda storage, loc: storage))\n",
    "net = model(net)\n",
    "print('Model Loaded')"
   ]
  },
  {
   "cell_type": "markdown",
   "metadata": {},
   "source": [
    "In this exemple, we've loaded the following model : \n",
    "\n",
    "    model(\n",
    "      (features): Features(\n",
    "        (features): Sequential(\n",
    "          (0): Conv2d(4, 32, kernel_size=(8, 8), stride=(4, 4))\n",
    "          (1): ReLU()\n",
    "          (2): Conv2d(32, 64, kernel_size=(4, 4), stride=(2, 2))\n",
    "          (3): ReLU()\n",
    "          (4): Conv2d(64, 64, kernel_size=(3, 3), stride=(1, 1))\n",
    "          (5): ReLU()\n",
    "        )\n",
    "      )\n",
    "      (classifier): Sequential(\n",
    "        (0): Linear(in_features=3136, out_features=512, bias=True)\n",
    "        (1): ReLU()\n",
    "        (2): Linear(in_features=512, out_features=6, bias=True)\n",
    "      )\n",
    "    )\n",
    "\n",
    "We are interested in the last feature map activations, ie the output of the last convolution, which is composed of **64** channels of size **(7,7)**.\n",
    "\n",
    "((((84-8)/4+1)-4)/2+1-3)/1+1 = 7"
   ]
  },
  {
   "cell_type": "markdown",
   "metadata": {},
   "source": [
    "**Load an observation**"
   ]
  },
  {
   "cell_type": "code",
   "execution_count": 4,
   "metadata": {},
   "outputs": [
    {
     "name": "stdout",
     "output_type": "stream",
     "text": [
      "Observation Shape :  torch.Size([1, 4, 84, 84])\n"
     ]
    },
    {
     "data": {
      "image/png": "[encoded data removed]",
      "text/plain": [
       "<Figure size 720x360 with 4 Axes>"
      ]
     },
     "metadata": {
      "needs_background": "light"
     },
     "output_type": "display_data"
    }
   ],
   "source": [
    "DIR_PATH = \"C:/Users/damie/Desktop/XRL/Code/LIME/samples\"\n",
    "obs, last_4_frames, last_4_actions  = pickle.load(open(os.path.join(DIR_PATH, \"sample_5.p\"), \"rb\" ))\n",
    "print(\"Observation Shape : \", obs.shape)\n",
    "\n",
    "fig, ax = plt.subplots(1,4,figsize=(10,5))\n",
    "for a in fig.axes: a.get_xaxis().set_visible(False) ; a.get_yaxis().set_visible(False) ;\n",
    "for i in range(4):\n",
    "    ax[i].imshow(last_4_frames[i]) ; ax[i].set_title('t-{}'.format(3-i))"
   ]
  },
  {
   "cell_type": "code",
   "execution_count": 5,
   "metadata": {},
   "outputs": [],
   "source": [
    "from gradcam import ModelOutputs"
   ]
  },
  {
   "cell_type": "markdown",
   "metadata": {},
   "source": [
    "**1. Compute $\\frac{\\partial y_c}{\\partial A^k}$ via backpropagation.**. \n",
    "\n",
    "Here, *A* is the last comvolutional feature map of the DQN, with K = 64, and $y^c$ is the value (before softmax) of the *action c*"
   ]
  },
  {
   "cell_type": "code",
   "execution_count": 6,
   "metadata": {},
   "outputs": [
    {
     "name": "stdout",
     "output_type": "stream",
     "text": [
      "Size of A : torch.Size([1, 64, 7, 7]) \n",
      "Output vector :  [[ -52.048706   38.458      28.415443  -81.4323   -138.06064   -30.238165]]\n"
     ]
    },
    {
     "data": {
      "image/png": "[encoded data removed]",
      "text/plain": [
       "<Figure size 1080x360 with 10 Axes>"
      ]
     },
     "metadata": {
      "needs_background": "light"
     },
     "output_type": "display_data"
    }
   ],
   "source": [
    "input = obs.float()\n",
    "extractor = ModelOutputs(model=net,  target_layers=['features'])\n",
    "features, output = extractor(input)\n",
    "\n",
    "print('Size of A :', features[0].shape, '\\nOutput vector : ', output.detach().numpy())\n",
    "\n",
    "fig, ax = plt.subplots(1,10,figsize=(15,5))\n",
    "for a in fig.axes: a.get_xaxis().set_visible(False) ; a.get_yaxis().set_visible(False) ;\n",
    "for i in range(10):\n",
    "    ax[i].imshow(features[0][0,i].detach()) ; ax[i].set_title('Filter {}'.format(i))"
   ]
  },
  {
   "cell_type": "markdown",
   "metadata": {},
   "source": [
    "**Select the action you're interested in**. If None, it uses the highest scoring category."
   ]
  },
  {
   "cell_type": "code",
   "execution_count": 7,
   "metadata": {},
   "outputs": [
    {
     "name": "stdout",
     "output_type": "stream",
     "text": [
      "Highest score for action : 1\n"
     ]
    }
   ],
   "source": [
    "index = None\n",
    "if index == None:\n",
    "    index = np.argmax(output.cpu().data.numpy())\n",
    "    print('Highest score for action :', index)"
   ]
  },
  {
   "cell_type": "markdown",
   "metadata": {},
   "source": [
    "Prepare the backpropagation w.r.t the corresponding index"
   ]
  },
  {
   "cell_type": "code",
   "execution_count": 8,
   "metadata": {},
   "outputs": [
    {
     "data": {
      "text/plain": [
       "tensor(38.4580, grad_fn=<SumBackward0>)"
      ]
     },
     "execution_count": 8,
     "metadata": {},
     "output_type": "execute_result"
    }
   ],
   "source": [
    "one_hot = np.zeros((1, output.size()[-1]), dtype=np.float32)\n",
    "one_hot[0][index] = 1\n",
    "one_hot = torch.from_numpy(one_hot).requires_grad_(True)\n",
    "\n",
    "one_hot = torch.sum(one_hot * output)\n",
    "one_hot"
   ]
  },
  {
   "cell_type": "markdown",
   "metadata": {},
   "source": [
    "Compute the **backpropagation** after making sure to set all gradients to zero."
   ]
  },
  {
   "cell_type": "code",
   "execution_count": 9,
   "metadata": {},
   "outputs": [],
   "source": [
    "net.features.zero_grad()\n",
    "net.classifier.zero_grad()\n",
    "\n",
    "one_hot.backward(retain_graph=True)"
   ]
  },
  {
   "cell_type": "markdown",
   "metadata": {},
   "source": [
    "Get the gradient from the feature map activation A"
   ]
  },
  {
   "cell_type": "code",
   "execution_count": 10,
   "metadata": {},
   "outputs": [
    {
     "data": {
      "text/plain": [
       "(1, 64, 7, 7)"
      ]
     },
     "execution_count": 10,
     "metadata": {},
     "output_type": "execute_result"
    }
   ],
   "source": [
    "grads_val = extractor.get_gradients()[-1].cpu().data.numpy()\n",
    "grads_val.shape"
   ]
  },
  {
   "cell_type": "code",
   "execution_count": 11,
   "metadata": {},
   "outputs": [
    {
     "data": {
      "image/png": "[encoded data removed]",
      "text/plain": [
       "<Figure size 1080x360 with 10 Axes>"
      ]
     },
     "metadata": {
      "needs_background": "light"
     },
     "output_type": "display_data"
    }
   ],
   "source": [
    "fig, ax = plt.subplots(1,10,figsize=(15,5))\n",
    "for a in fig.axes: a.get_xaxis().set_visible(False) ; a.get_yaxis().set_visible(False) ;\n",
    "for i in range(10):\n",
    "    if i%2 :\n",
    "        ax[i].imshow(grads_val[0,i//2]) ; ax[i].set_title('Gradient{}'.format(i//2))\n",
    "    else : \n",
    "        ax[i].imshow(features[0][0,i//2].detach()) ; ax[i].set_title('Filter {}'.format(i//2))"
   ]
  },
  {
   "cell_type": "markdown",
   "metadata": {},
   "source": [
    "**2. Compite the *importance* weigths** using global average pooling, ie mean on height and width."
   ]
  },
  {
   "cell_type": "code",
   "execution_count": 12,
   "metadata": {},
   "outputs": [],
   "source": [
    "target = features[-1]\n",
    "target = target.cpu().data.numpy()[0, :]\n",
    "\n",
    "weights = np.mean(grads_val, axis=(2, 3))[0, :]"
   ]
  },
  {
   "cell_type": "markdown",
   "metadata": {},
   "source": [
    "**3. Compute the weighted combinaison of feature maps**. The output size is then a 7x7 grid."
   ]
  },
  {
   "cell_type": "code",
   "execution_count": 13,
   "metadata": {},
   "outputs": [
    {
     "data": {
      "text/plain": [
       "(7, 7)"
      ]
     },
     "execution_count": 13,
     "metadata": {},
     "output_type": "execute_result"
    },
    {
     "data": {
      "image/png": "[encoded data removed]",
      "text/plain": [
       "<Figure size 432x288 with 1 Axes>"
      ]
     },
     "metadata": {
      "needs_background": "light"
     },
     "output_type": "display_data"
    }
   ],
   "source": [
    "cam = np.zeros(target.shape[1:], dtype=np.float32)\n",
    "\n",
    "for i, w in enumerate(weights):\n",
    "    cam += w * target[i, :, :]\n",
    "    \n",
    "plt.imshow(cam) ; cam.shape"
   ]
  },
  {
   "cell_type": "code",
   "execution_count": 14,
   "metadata": {},
   "outputs": [
    {
     "data": {
      "text/plain": [
       "Text(0.5, 1.0, 'Negative influence')"
      ]
     },
     "execution_count": 14,
     "metadata": {},
     "output_type": "execute_result"
    },
    {
     "data": {
      "image/png": "[encoded data removed]",
      "text/plain": [
       "<Figure size 1080x360 with 3 Axes>"
      ]
     },
     "metadata": {
      "needs_background": "light"
     },
     "output_type": "display_data"
    }
   ],
   "source": [
    "fig, ax = plt.subplots(1,3,figsize=(15,5))\n",
    "ax[0].imshow(np.maximum(cam,0)) ; ax[0].set_title('Positive influence')\n",
    "ax[1].imshow(obs[0,3]) ; ax[0].set_title('Positive influence')\n",
    "ax[2].imshow(-np.minimum(cam,0)) ; ax[1].set_title('Negative influence')\n"
   ]
  },
  {
   "cell_type": "markdown",
   "metadata": {},
   "source": [
    "**Get Saliency Map**"
   ]
  },
  {
   "cell_type": "code",
   "execution_count": 15,
   "metadata": {},
   "outputs": [],
   "source": [
    "from skimage.transform import resize\n",
    "\n",
    "def saliency_on_atari_frame(saliency, atari, fudge_factor, channel=2, sigma=0, size = [84,84]):\n",
    "    pmax = saliency.max()\n",
    "    S = resize(saliency, output_shape=size,  mode='wrap').astype(np.float32)\n",
    "    S = S**2\n",
    "    S = S if sigma == 0 else gaussian_filter(S, sigma=sigma)\n",
    "    S -= S.min() ; S = fudge_factor * 255 * S / S.max()\n",
    "    I = atari.astype('uint16')\n",
    "    I[:,:,channel] += S.astype('uint16')\n",
    "    I = I.clip(1,255).astype('uint8')\n",
    "    return I\n",
    "\n",
    "def process_mask(mask):\n",
    "    overlay_mask = np.zeros((210,160), 'uint8')\n",
    "    overlay_mask[35:195,:] = resize(np.swapaxes(mask,1,0), output_shape = (160,160)).astype('uint8')\n",
    "    #overlay_orig = cv2.addWeighted(overlay_orig, 0.5,orig_img, 1, 0)\n",
    "    return overlay_mask"
   ]
  },
  {
   "cell_type": "code",
   "execution_count": 16,
   "metadata": {},
   "outputs": [
    {
     "data": {
      "image/png": "[encoded data removed]",
      "text/plain": [
       "<Figure size 720x360 with 4 Axes>"
      ]
     },
     "metadata": {
      "needs_background": "light"
     },
     "output_type": "display_data"
    }
   ],
   "source": [
    "mask_pos, mask_neg = process_mask(np.maximum(cam, 0)), process_mask(-np.minimum(cam, 0))\n",
    "fig, ax = plt.subplots(1,4,figsize=(10,5))\n",
    "for a in fig.axes: a.get_xaxis().set_visible(False) ; a.get_yaxis().set_visible(False) ;\n",
    "for i in range(4):\n",
    "    ax[i].imshow(last_4_frames[i]) ; ax[i].set_title('t-{}'.format(3-i))\n",
    "    sal_pos = saliency_on_atari_frame(mask_pos, last_4_frames[i], fudge_factor = 1, channel = 0,sigma = 0, size = [210,160])\n",
    "    sal_final = saliency_on_atari_frame(mask_neg,sal_pos, fudge_factor = 1, channel = 2,sigma = 0,  size = [210,160])\n",
    "    ax[i].imshow(sal_final) ; ax[i].set_title('t-{}'.format(3-i))"
   ]
  },
  {
   "cell_type": "markdown",
   "metadata": {},
   "source": [
    "**Remarks** : ...."
   ]
  },
  {
   "cell_type": "markdown",
   "metadata": {},
   "source": [
    "### <a id=\"GuidedBackpropReLU\"></a>GuidedBackpropReLU"
   ]
  },
  {
   "cell_type": "code",
   "execution_count": 17,
   "metadata": {},
   "outputs": [],
   "source": [
    "class GuidedBackpropReLU(Function):\n",
    "\n",
    "    @staticmethod\n",
    "    def forward(self, input):\n",
    "        positive_mask = (input > 0).type_as(input)\n",
    "        output = torch.addcmul(torch.zeros(input.size()).type_as(input), input, positive_mask)\n",
    "        self.save_for_backward(input, output)\n",
    "        return output\n",
    "\n",
    "    @staticmethod\n",
    "    def backward(self, grad_output):\n",
    "        input, output = self.saved_tensors\n",
    "        grad_input = None\n",
    "\n",
    "        positive_mask_1 = (input > 0).type_as(grad_output)\n",
    "        positive_mask_2 = (grad_output > 0).type_as(grad_output)\n",
    "        grad_input = torch.addcmul(torch.zeros(input.size()).type_as(input),\n",
    "                                   torch.addcmul(torch.zeros(input.size()).type_as(input), grad_output,\n",
    "                                                 positive_mask_1), positive_mask_2)\n",
    "\n",
    "        return grad_input\n",
    "\n",
    "\n",
    "class GuidedBackpropReLUModel:\n",
    "    def __init__(self, model, use_cuda):\n",
    "        self.model = model\n",
    "        self.model.eval()\n",
    "        self.cuda = use_cuda\n",
    "        if self.cuda:\n",
    "            self.model = model.cuda()\n",
    "\n",
    "        def recursive_relu_apply(module_top):\n",
    "            for idx, module in module_top._modules.items():\n",
    "                recursive_relu_apply(module)\n",
    "                if module.__class__.__name__ == 'ReLU':\n",
    "                    module_top._modules[idx] = GuidedBackpropReLU.apply\n",
    "                \n",
    "        # replace ReLU with GuidedBackpropReLU\n",
    "        recursive_relu_apply(self.model)\n",
    "\n",
    "    def forward(self, input):\n",
    "        return self.model(input)\n",
    "\n",
    "    def __call__(self, input, index=None):\n",
    "        if self.cuda:\n",
    "            output = self.forward(input.cuda())\n",
    "        else:\n",
    "            output = self.forward(input)\n",
    "\n",
    "        if index == None:\n",
    "            index = np.argmax(output.cpu().data.numpy())\n",
    "\n",
    "        one_hot = np.zeros((1, output.size()[-1]), dtype=np.float32)\n",
    "        one_hot[0][index] = 1\n",
    "        one_hot = torch.from_numpy(one_hot).requires_grad_(True)\n",
    "        if self.cuda:\n",
    "            one_hot = torch.sum(one_hot.cuda() * output)\n",
    "        else:\n",
    "            one_hot = torch.sum(one_hot * output)\n",
    "\n",
    "        # self.model.features.zero_grad()\n",
    "        # self.model.classifier.zero_grad()\n",
    "        one_hot.backward(retain_graph=True)\n",
    "\n",
    "        output = input.grad.cpu().data.numpy()\n",
    "        output = output[0, :, :, :]\n",
    "\n",
    "        return output"
   ]
  },
  {
   "cell_type": "code",
   "execution_count": 18,
   "metadata": {},
   "outputs": [],
   "source": [
    "def recursive_relu_apply(module_top):\n",
    "    for idx, module in module_top._modules.items():\n",
    "        print(idx, module)\n",
    "        recursive_relu_apply(module)\n",
    "        if module.__class__.__name__ == 'ReLU':\n",
    "            module_top._modules[idx] = GuidedBackpropReLU.apply\n"
   ]
  },
  {
   "cell_type": "code",
   "execution_count": 19,
   "metadata": {},
   "outputs": [
    {
     "name": "stdout",
     "output_type": "stream",
     "text": [
      "conv Sequential(\n",
      "  (0): Conv2d(4, 32, kernel_size=(8, 8), stride=(4, 4))\n",
      "  (1): ReLU()\n",
      "  (2): Conv2d(32, 64, kernel_size=(4, 4), stride=(2, 2))\n",
      "  (3): ReLU()\n",
      "  (4): Conv2d(64, 64, kernel_size=(3, 3), stride=(1, 1))\n",
      "  (5): ReLU()\n",
      ")\n",
      "0 Conv2d(4, 32, kernel_size=(8, 8), stride=(4, 4))\n",
      "1 ReLU()\n",
      "2 Conv2d(32, 64, kernel_size=(4, 4), stride=(2, 2))\n",
      "3 ReLU()\n",
      "4 Conv2d(64, 64, kernel_size=(3, 3), stride=(1, 1))\n",
      "5 ReLU()\n",
      "fc Sequential(\n",
      "  (0): Linear(in_features=3136, out_features=512, bias=True)\n",
      "  (1): ReLU()\n",
      "  (2): Linear(in_features=512, out_features=6, bias=True)\n",
      ")\n",
      "0 Linear(in_features=3136, out_features=512, bias=True)\n",
      "1 ReLU()\n",
      "2 Linear(in_features=512, out_features=6, bias=True)\n"
     ]
    },
    {
     "data": {
      "text/plain": [
       "DQN(\n",
       "  (conv): Sequential(\n",
       "    (0): Conv2d(4, 32, kernel_size=(8, 8), stride=(4, 4))\n",
       "    (1): <built-in method apply of FunctionMeta object at 0x000001F76A5DC7F8>\n",
       "    (2): Conv2d(32, 64, kernel_size=(4, 4), stride=(2, 2))\n",
       "    (3): <built-in method apply of FunctionMeta object at 0x000001F76A5DC7F8>\n",
       "    (4): Conv2d(64, 64, kernel_size=(3, 3), stride=(1, 1))\n",
       "    (5): <built-in method apply of FunctionMeta object at 0x000001F76A5DC7F8>\n",
       "  )\n",
       "  (fc): Sequential(\n",
       "    (0): Linear(in_features=3136, out_features=512, bias=True)\n",
       "    (1): <built-in method apply of FunctionMeta object at 0x000001F76A5DC7F8>\n",
       "    (2): Linear(in_features=512, out_features=6, bias=True)\n",
       "  )\n",
       ")"
      ]
     },
     "execution_count": 19,
     "metadata": {},
     "output_type": "execute_result"
    }
   ],
   "source": [
    "net = dqn_model.DQN(OBS_SPACE, ACT_SPACE)\n",
    "net.load_state_dict(torch.load(PATH_TO_PONG_MODEL, map_location=lambda storage, loc: storage))\n",
    "net.conv.zero_grad()\n",
    "net.fc.zero_grad()\n",
    "\n",
    "net.eval()\n",
    "recursive_relu_apply(net)\n",
    "net"
   ]
  },
  {
   "cell_type": "code",
   "execution_count": 20,
   "metadata": {},
   "outputs": [
    {
     "name": "stdout",
     "output_type": "stream",
     "text": [
      "Index : 2 Output : [[ 0.16826548  0.42834806  0.5685358   0.19444427 -0.06415313  0.3802368 ]]\n"
     ]
    }
   ],
   "source": [
    "target_index = None\n",
    "index = None\n",
    "\n",
    "input = obs.float().requires_grad_(True)\n",
    "output = net(input)\n",
    "\n",
    "if index == None:\n",
    "    index = np.argmax(output.cpu().data.numpy())\n",
    "\n",
    "print('Index :', index, 'Output :', output.cpu().data.numpy())\n",
    "\n",
    "one_hot = np.zeros((1, output.size()[-1]), dtype=np.float32)\n",
    "one_hot[0][index] = 1\n",
    "one_hot = torch.from_numpy(one_hot).requires_grad_(True)\n",
    "one_hot = torch.sum(one_hot * output)\n",
    "\n",
    "one_hot.backward(retain_graph=True)\n",
    "output = input.grad.cpu().data.numpy()\n",
    "output = output[0, :, :, :]"
   ]
  },
  {
   "cell_type": "code",
   "execution_count": 22,
   "metadata": {},
   "outputs": [],
   "source": [
    "cam_pos = np.maximum(cam, 0)\n",
    "cam_pos = resize(cam_pos, output_shape=(84,84),  mode='wrap').astype(np.float32) #INTER_LINEAR #INTER_AREA \n",
    "cam_pos = cam_pos**2\n",
    "cam_pos = cam_pos - np.min(cam_pos)\n",
    "cam_pos = cam_pos / np.max(cam_pos)"
   ]
  },
  {
   "cell_type": "code",
   "execution_count": 23,
   "metadata": {},
   "outputs": [],
   "source": [
    "gb = output.transpose((1, 2, 0))"
   ]
  },
  {
   "cell_type": "code",
   "execution_count": 24,
   "metadata": {},
   "outputs": [
    {
     "data": {
      "image/png": "[encoded data removed]",
      "text/plain": [
       "<Figure size 720x360 with 4 Axes>"
      ]
     },
     "metadata": {
      "needs_background": "light"
     },
     "output_type": "display_data"
    }
   ],
   "source": [
    "fig, ax = plt.subplots(1,4,figsize=(10,5))\n",
    "for a in fig.axes: a.get_xaxis().set_visible(False) ; a.get_yaxis().set_visible(False) ;\n",
    "for i in range(4):\n",
    "    ax[i].imshow(output[i]) ; ax[i].set_title('t-{}'.format(3-i))"
   ]
  },
  {
   "cell_type": "code",
   "execution_count": 25,
   "metadata": {},
   "outputs": [
    {
     "data": {
      "image/png": "[encoded data removed]",
      "text/plain": [
       "<Figure size 720x360 with 4 Axes>"
      ]
     },
     "metadata": {
      "needs_background": "light"
     },
     "output_type": "display_data"
    }
   ],
   "source": [
    "fig, ax = plt.subplots(1,4,figsize=(10,5))\n",
    "for a in fig.axes: a.get_xaxis().set_visible(False) ; a.get_yaxis().set_visible(False) ;\n",
    "for i in range(4):\n",
    "    ax[i].imshow(cam_pos*output[i],  cmap = 'gray' ) ; ax[i].set_title('t-{}'.format(3-i))"
   ]
  },
  {
   "cell_type": "markdown",
   "metadata": {},
   "source": [
    "______________________________________________________"
   ]
  }
 ],
 "metadata": {
  "kernelspec": {
   "display_name": "Python 3",
   "language": "python",
   "name": "python3"
  },
  "language_info": {
   "codemirror_mode": {
    "name": "ipython",
    "version": 3
   },
   "file_extension": ".py",
   "mimetype": "text/x-python",
   "name": "python",
   "nbconvert_exporter": "python",
   "pygments_lexer": "ipython3",
   "version": "3.7.4"
  }
 },
 "nbformat": 4,
 "nbformat_minor": 2
}
